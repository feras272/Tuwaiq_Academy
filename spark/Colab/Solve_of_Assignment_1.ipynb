{
  "nbformat": 4,
  "nbformat_minor": 0,
  "metadata": {
    "colab": {
      "provenance": []
    },
    "kernelspec": {
      "name": "python3",
      "display_name": "Python 3"
    },
    "language_info": {
      "name": "python"
    }
  },
  "cells": [
    {
      "cell_type": "markdown",
      "source": [
        "# Academy: Data Engineering: Assignment 1"
      ],
      "metadata": {
        "id": "RVXHSib5O4_j"
      }
    },
    {
      "cell_type": "code",
      "execution_count": 2,
      "metadata": {
        "colab": {
          "base_uri": "https://localhost:8080/"
        },
        "id": "zfjhA-U0GDXW",
        "outputId": "64f95d34-a36b-4744-89ff-6cbd0c461d1a"
      },
      "outputs": [
        {
          "output_type": "stream",
          "name": "stdout",
          "text": [
            "\u001b[K     |████████████████████████████████| 281.3 MB 50 kB/s \n",
            "\u001b[K     |████████████████████████████████| 1.4 MB 12.8 MB/s \n",
            "\u001b[K     |████████████████████████████████| 199 kB 50.0 MB/s \n",
            "\u001b[K     |████████████████████████████████| 45 kB 3.6 MB/s \n",
            "\u001b[K     |████████████████████████████████| 11.2 MB 36.8 MB/s \n",
            "\u001b[K     |████████████████████████████████| 51 kB 6.8 MB/s \n",
            "\u001b[K     |████████████████████████████████| 4.0 MB 34.4 MB/s \n",
            "\u001b[K     |████████████████████████████████| 960 kB 65.0 MB/s \n",
            "\u001b[?25h  Building wheel for pyspark (setup.py) ... \u001b[?25l\u001b[?25hdone\n",
            "  Building wheel for ligo-segments (setup.py) ... \u001b[?25l\u001b[?25hdone\n"
          ]
        }
      ],
      "source": [
        "!pip install pyspark -q gwpy"
      ]
    },
    {
      "cell_type": "code",
      "source": [
        "import pyspark\n",
        "from pyspark.sql import SparkSession\n",
        "\n",
        "spark = SparkSession.builder.getOrCreate()\n"
      ],
      "metadata": {
        "id": "-x8OFE_JGoNH"
      },
      "execution_count": 3,
      "outputs": []
    },
    {
      "cell_type": "code",
      "source": [
        "%%capture\n",
        "!wget https://raw.githubusercontent.com/Ruqyai/Course-DS/ef2eb5cfef26c7b3f1f17c334b6e0ccc02c47a2d/math-raw.csv"
      ],
      "metadata": {
        "id": "pETPL5H9Hc3T"
      },
      "execution_count": 4,
      "outputs": []
    },
    {
      "cell_type": "code",
      "source": [
        "!ls"
      ],
      "metadata": {
        "colab": {
          "base_uri": "https://localhost:8080/"
        },
        "id": "Dcc3uZB2NXrE",
        "outputId": "0a1268db-1654-40a0-b876-12c5e8c30d95"
      },
      "execution_count": 5,
      "outputs": [
        {
          "output_type": "stream",
          "name": "stdout",
          "text": [
            "math-raw.csv  sample_data\n"
          ]
        }
      ]
    },
    {
      "cell_type": "markdown",
      "source": [
        "###Creat spark datafream using the csv file"
      ],
      "metadata": {
        "id": "h8967KXdNgxp"
      }
    },
    {
      "cell_type": "code",
      "source": [
        "# write you code here\n",
        "spdf = spark.read.format(\"csv\").option(\"header\", \"true\").load(\"/content/math-raw.csv\")\n",
        "spdf.show(5)"
      ],
      "metadata": {
        "id": "x55Xxax0On0s",
        "colab": {
          "base_uri": "https://localhost:8080/"
        },
        "outputId": "33a4b18c-e7ef-41a5-e584-a12bc71d2ee7"
      },
      "execution_count": 6,
      "outputs": [
        {
          "output_type": "stream",
          "name": "stdout",
          "text": [
            "+------+------+---+-------+-------+-------+----+----+-------+--------+------+--------+----------+---------+--------+---------+------+----+----------+-------+------+--------+--------+------+--------+-----+----+----+------+--------+---+---+---+\n",
            "|school|   sex|age|address|famsize|Pstatus|Medu|Fedu|   Mjob|    Fjob|reason|guardian|traveltime|studytime|failures|schoolsup|famsup|paid|activities|nursery|higher|internet|romantic|famrel|freetime|goout|Dalc|Walc|health|absences| G1| G2| G3|\n",
            "+------+------+---+-------+-------+-------+----+----+-------+--------+------+--------+----------+---------+--------+---------+------+----+----------+-------+------+--------+--------+------+--------+-----+----+----+------+--------+---+---+---+\n",
            "|    GP|     F| 18|      U|    GT3|      A|   4|   4|at_home| teacher|course|  mother|         2|        2|    null|      yes|    no|  no|        no|    yes|   yes|      no|      no|     4|       ?|    4|   1|   1|     3|     NaN|  5|  6|  6|\n",
            "|    GP|     F| 17|      U|    GT3|      T|   1|   1|at_home|   other|course|  father|         1|        2|    null|       no|   yes|  no|        no|     no|   yes|     yes|      no|     5|       ?|    3|   1|   1|     3|     NaN|  5|  5|  6|\n",
            "|    GP|Female| 15|      U|    LE3|      T|   1|   1|at_home|   other| other|  mother|         1|        2|       3|      yes|    no| yes|        no|    yes|   yes|     yes|      no|     4|       3|    2|   2|   3|     3|      10|  7|  8| 10|\n",
            "|    GP|     F| 15|      U|    GT3|      T|   4|   2| health|services|  home|  mother|         1|        3|       0|       no|   yes| yes|       yes|    yes|   yes|     yes|     yes|     3|       2|    2|   1|   1|     5|       2| 15| 14| 15|\n",
            "|    GP|     F| 16|      U|    GT3|      T|   3|   3|  other|   other|  home|  father|         1|        2|       0|       no|   yes| yes|        no|    yes|   yes|      no|      no|     4|       3|    2|   1|   2|     5|       4|  6| 10| 10|\n",
            "+------+------+---+-------+-------+-------+----+----+-------+--------+------+--------+----------+---------+--------+---------+------+----+----------+-------+------+--------+--------+------+--------+-----+----+----+------+--------+---+---+---+\n",
            "only showing top 5 rows\n",
            "\n"
          ]
        }
      ]
    },
    {
      "cell_type": "code",
      "source": [
        "#@title proposed solution\n",
        "#spdf = spark.read.format(\"csv\").option(\"header\",\"true\").load(\"/content/math-raw.csv\")\n",
        "#spdf.show(5)"
      ],
      "metadata": {
        "id": "9t_4y6qQGpb8"
      },
      "execution_count": 1,
      "outputs": []
    },
    {
      "cell_type": "markdown",
      "source": [
        "### Select on column"
      ],
      "metadata": {
        "id": "1ZX4MsA2L5_9"
      }
    },
    {
      "cell_type": "code",
      "source": [
        "# write you code here\n",
        "spdf.createOrReplaceTempView(\"people\")\n",
        "\n",
        "spark.sql(\"SELECT Fjob from people\").show()"
      ],
      "metadata": {
        "id": "uM8q3kG3HXL_",
        "colab": {
          "base_uri": "https://localhost:8080/"
        },
        "outputId": "d8a0a5aa-2c5f-44a2-f8a2-a6e909b9afa0"
      },
      "execution_count": 9,
      "outputs": [
        {
          "output_type": "stream",
          "name": "stdout",
          "text": [
            "+--------+\n",
            "|    Fjob|\n",
            "+--------+\n",
            "| teacher|\n",
            "|   other|\n",
            "|   other|\n",
            "|services|\n",
            "|   other|\n",
            "|   other|\n",
            "|   other|\n",
            "| teacher|\n",
            "|   other|\n",
            "|   other|\n",
            "|  health|\n",
            "|   other|\n",
            "|services|\n",
            "|   other|\n",
            "|   other|\n",
            "|   other|\n",
            "|services|\n",
            "|   other|\n",
            "|services|\n",
            "|   other|\n",
            "+--------+\n",
            "only showing top 20 rows\n",
            "\n"
          ]
        }
      ]
    },
    {
      "cell_type": "markdown",
      "source": [
        "### Filter father job to show teachers"
      ],
      "metadata": {
        "id": "xaNP86VjMeMV"
      }
    },
    {
      "cell_type": "code",
      "source": [
        "# write you code here\n",
        "spdf.createOrReplaceTempView(\"people\")\n",
        "\n",
        "spark.sql(\"SELECT Fjob from people where Fjob = 'teacher'\").show()"
      ],
      "metadata": {
        "id": "L_magNLxM0wp",
        "colab": {
          "base_uri": "https://localhost:8080/"
        },
        "outputId": "bde9b09f-0e69-4b1b-c352-cc3d34f4cba5"
      },
      "execution_count": 10,
      "outputs": [
        {
          "output_type": "stream",
          "name": "stdout",
          "text": [
            "+-------+\n",
            "|   Fjob|\n",
            "+-------+\n",
            "|teacher|\n",
            "|teacher|\n",
            "|teacher|\n",
            "|teacher|\n",
            "|teacher|\n",
            "|teacher|\n",
            "|teacher|\n",
            "|teacher|\n",
            "|teacher|\n",
            "|teacher|\n",
            "|teacher|\n",
            "|teacher|\n",
            "|teacher|\n",
            "|teacher|\n",
            "|teacher|\n",
            "|teacher|\n",
            "|teacher|\n",
            "|teacher|\n",
            "|teacher|\n",
            "|teacher|\n",
            "+-------+\n",
            "only showing top 20 rows\n",
            "\n"
          ]
        }
      ]
    }
  ]
}