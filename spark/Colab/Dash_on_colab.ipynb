{
  "cells": [
    {
      "cell_type": "markdown",
      "metadata": {
        "colab_type": "text",
        "id": "view-in-github"
      },
      "source": [
        "<a href=\"https://colab.research.google.com/github/Ruqyai/Tuwaiq_Academy/blob/main/spark/Colab/Dash_on_colab.ipynb\" target=\"_parent\"><img src=\"https://colab.research.google.com/assets/colab-badge.svg\" alt=\"Open In Colab\"/></a>"
      ]
    },
    {
      "cell_type": "markdown",
      "metadata": {
        "id": "wh2UfCxh85kN"
      },
      "source": [
        "#Run Dash on Colab"
      ]
    },
    {
      "cell_type": "markdown",
      "metadata": {
        "id": "D0g6o78b8z-E"
      },
      "source": [
        "\n",
        "##Installs"
      ]
    },
    {
      "cell_type": "code",
      "execution_count": null,
      "metadata": {
        "id": "iupuO5Wy5EjA"
      },
      "outputs": [],
      "source": [
        "! pip install dash &> /dev/null\n",
        "! pip install jupyter_dash &> /dev/null\n",
        "! pip install --upgrade plotly &> /dev/null"
      ]
    },
    {
      "cell_type": "code",
      "execution_count": null,
      "metadata": {
        "id": "nNjaiKIp77vY"
      },
      "outputs": [],
      "source": [
        "#import dash \n",
        "#from dash.dependencies import Input, Output\n",
        "from jupyter_dash import JupyterDash \n",
        "import dash_core_components as dcc \n",
        "import dash_html_components as html \n",
        "import plotly.express as px\n",
        "import pandas as pd"
      ]
    },
    {
      "cell_type": "markdown",
      "metadata": {
        "id": "mt3ZmXTM9Doe"
      },
      "source": [
        "##Your dashboard app"
      ]
    },
    {
      "cell_type": "code",
      "execution_count": null,
      "metadata": {
        "colab": {
          "base_uri": "https://localhost:8080/",
          "height": 52
        },
        "id": "ih5laODW4DqT",
        "outputId": "f64ede8b-ac48-4780-b002-20d99a202dad"
      },
      "outputs": [
        {
          "name": "stdout",
          "output_type": "stream",
          "text": [
            "Dash app running on:\n"
          ]
        },
        {
          "data": {
            "application/javascript": "(async (port, path, text, element) => {\n    if (!google.colab.kernel.accessAllowed) {\n      return;\n    }\n    element.appendChild(document.createTextNode(''));\n    const url = await google.colab.kernel.proxyPort(port);\n    const anchor = document.createElement('a');\n    anchor.href = new URL(path, url).toString();\n    anchor.target = '_blank';\n    anchor.setAttribute('data-href', url + path);\n    anchor.textContent = text;\n    element.appendChild(anchor);\n  })(8050, \"/\", \"http://127.0.0.1:8050/\", window.element)",
            "text/plain": [
              "<IPython.core.display.Javascript object>"
            ]
          },
          "metadata": {},
          "output_type": "display_data"
        }
      ],
      "source": [
        "app = JupyterDash(__name__)\n",
        "\n",
        "# assume you have a \"long-form\" data frame\n",
        "# see https://plotly.com/python/px-arguments/ for more options\n",
        "df = pd.DataFrame({\n",
        "    \"Fruit\": [\"Apples\", \"Oranges\", \"Bananas\", \"Apples\", \"Oranges\", \"Bananas\"],\n",
        "    \"Amount\": [4, 1, 2, 2, 4, 5],\n",
        "    \"City\": [\"SF\", \"SF\", \"SF\", \"Montreal\", \"Montreal\", \"Montreal\"]\n",
        "})\n",
        "\n",
        "fig = px.bar(df, x=\"Fruit\", y=\"Amount\", color=\"City\", barmode=\"group\")\n",
        "\n",
        "app.layout = html.Div(children=[\n",
        "    html.H1(children='Hello Dash'),\n",
        "\n",
        "    dcc.Graph(\n",
        "        id = 'sample-graph',\n",
        "        figure = {\n",
        "            'data': [\n",
        "                {'x' : [5,6,7], 'y' : [12,15,18], 'type':'bar', 'name': 'First Chart'}, # provide dictionary for x axis and y\n",
        "                {'x' : [5,6,7], 'y' : [20,24,26], 'type':'bar', 'name': 'Second Chart'}\n",
        "            ],\n",
        "            'layout' : {\n",
        "                'title' : 'Simple Bar Chart'\n",
        "            }\n",
        "        } \n",
        "    )\n",
        "\n",
        "    \n",
        "\n",
        "    \n",
        "])\n",
        "\n",
        "if __name__ == '__main__':\n",
        "    app.run_server(mode=\"inline\") # app.run_server(mode=\"inline\") # use (mode=\"inline\") if you want run on this notebook in URL"
      ]
    },
    {
      "cell_type": "markdown",
      "metadata": {
        "id": "DBaYsJSuAdz9"
      },
      "source": [
        "# Assignment #3"
      ]
    },
    {
      "cell_type": "markdown",
      "metadata": {
        "id": "jlJE_QNIAwc7"
      },
      "source": [
        "<h3>Improve this dashboard and make it attractive</h3>   \n",
        "Reference: \n",
        "\n",
        "[https://dash.plotly.com/](https://dash.plotly.com/)"
      ]
    }
  ],
  "metadata": {
    "colab": {
      "authorship_tag": "ABX9TyPsBJQfAK0rw9Mynst99BlH",
      "include_colab_link": true,
      "provenance": []
    },
    "kernelspec": {
      "display_name": "Python 3",
      "name": "python3"
    },
    "language_info": {
      "name": "python"
    }
  },
  "nbformat": 4,
  "nbformat_minor": 0
}
